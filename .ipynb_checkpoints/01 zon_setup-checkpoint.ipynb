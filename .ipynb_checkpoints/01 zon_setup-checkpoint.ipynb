{
 "cells": [
  {
   "cell_type": "markdown",
   "id": "1cc50204",
   "metadata": {},
   "source": [
    "# 1. Let's import necessary libraries"
   ]
  },
  {
   "cell_type": "code",
   "execution_count": null,
   "id": "848f2a87",
   "metadata": {},
   "outputs": [],
   "source": [
    "import flopy\n",
    "import sys\n",
    "import os\n",
    "import pyemu\n",
    "import pandas as pd\n",
    "# sys.path.insert(0, 'D:/spark-brc_gits/swatmf_git/swatmf')\n",
    "# from swatmf_pkgs import swatmf_pst_utils"
   ]
  },
  {
   "cell_type": "code",
   "execution_count": null,
   "id": "5bbefdeb",
   "metadata": {},
   "outputs": [],
   "source": [
    "import swatmf\n",
    "from swatmf import swatmf_pst_utils"
   ]
  },
  {
   "cell_type": "code",
   "execution_count": null,
   "id": "95a0f066",
   "metadata": {},
   "outputs": [],
   "source": [
    "# import swatmf"
   ]
  },
  {
   "cell_type": "code",
   "execution_count": null,
   "id": "dc5eaefe",
   "metadata": {},
   "outputs": [],
   "source": [
    "# import swatmf_pst_utils"
   ]
  },
  {
   "cell_type": "code",
   "execution_count": null,
   "id": "40d75e7e",
   "metadata": {},
   "outputs": [],
   "source": [
    "# check whether swatmf is installed properly\n",
    "print(swatmf.__version__)\n",
    "print(swatmf_pst_utils.__file__)"
   ]
  },
  {
   "cell_type": "markdown",
   "id": "22a8da66",
   "metadata": {},
   "source": [
    "# 2. Set up and write swatmf.con file"
   ]
  },
  {
   "cell_type": "code",
   "execution_count": null,
   "id": "7d76b1e7",
   "metadata": {},
   "outputs": [],
   "source": [
    "swatmf_pst_utils.create_swatmf_con?"
   ]
  },
  {
   "cell_type": "code",
   "execution_count": null,
   "id": "fc1328a1",
   "metadata": {},
   "outputs": [],
   "source": [
    "# time step\n",
    "time_step = 'day'\n",
    "\n",
    "# extract simulation (what our targets)\n",
    "depth_to_water = 'y'\n",
    "\n",
    "# locations\n",
    "subs = [58]\n",
    "grids = [501]\n",
    "\n",
    "# calibration period\n",
    "sim_start = '1/1/1985'\n",
    "cal_start = '1/1/1985'\n",
    "cal_end = '12/31/1985'\n",
    "\n",
    "# working directory\n",
    "wd = \"D:/Workshops/2022_swatmf_pest/SWAT-MODFLOW\"\n",
    "swat_wd = \"D:/Workshops/2022_swatmf_pest/SWAT\""
   ]
  },
  {
   "cell_type": "code",
   "execution_count": null,
   "id": "393fe07c",
   "metadata": {},
   "outputs": [],
   "source": [
    "swatmf_pst_utils.create_swatmf_con(wd, subs, grids, sim_start, cal_start, cal_end, depth_to_water=depth_to_water)"
   ]
  },
  {
   "cell_type": "markdown",
   "id": "714b9f31",
   "metadata": {},
   "source": [
    "## 2.1 PEST initial setup"
   ]
  },
  {
   "cell_type": "code",
   "execution_count": null,
   "id": "893b1e17",
   "metadata": {},
   "outputs": [],
   "source": [
    "# copy all necessary files (exes) to your working direcotry\n",
    "swatmf_pst_utils.init_setup(wd, swat_wd)"
   ]
  },
  {
   "cell_type": "code",
   "execution_count": null,
   "id": "81c68d35",
   "metadata": {},
   "outputs": [],
   "source": [
    "# check MODFLOW model\n",
    "mname = \"modflow.mfn\"\n",
    "m = flopy.modflow.Modflow.load(mname,model_ws=wd)\n",
    "m.check()"
   ]
  },
  {
   "cell_type": "markdown",
   "id": "18db09eb",
   "metadata": {},
   "source": [
    "# 3. Build template files"
   ]
  },
  {
   "cell_type": "code",
   "execution_count": null,
   "id": "0aa3578e",
   "metadata": {},
   "outputs": [],
   "source": [
    "os.chdir(wd)"
   ]
  },
  {
   "cell_type": "markdown",
   "id": "bf9c306a",
   "metadata": {},
   "source": [
    "## 3.1 MODFLOW pval"
   ]
  },
  {
   "cell_type": "code",
   "execution_count": null,
   "id": "8c062805",
   "metadata": {},
   "outputs": [],
   "source": [
    "# pval file\n",
    "pval_file = 'mf_1000.pval'"
   ]
  },
  {
   "cell_type": "code",
   "execution_count": null,
   "id": "e3c42826",
   "metadata": {},
   "outputs": [],
   "source": [
    "gw_par = pyemu.utils.gw_utils.modflow_pval_to_template_file(pval_file, tpl_file=None)\n",
    "gw_par"
   ]
  },
  {
   "cell_type": "markdown",
   "id": "eadabb62",
   "metadata": {},
   "source": [
    "## 3.2 SWAT model.in file"
   ]
  },
  {
   "cell_type": "code",
   "execution_count": null,
   "id": "6bd0545f",
   "metadata": {},
   "outputs": [],
   "source": [
    "# model.in file used\n",
    "\n",
    "sw_par = swatmf_pst_utils.model_in_to_template_file()\n",
    "sw_par"
   ]
  },
  {
   "cell_type": "markdown",
   "id": "8f0eb2b2",
   "metadata": {},
   "source": [
    "# 4. Build instruction files"
   ]
  },
  {
   "cell_type": "markdown",
   "id": "ce76961c",
   "metadata": {},
   "source": [
    "## 4.1 Streamflow (SWAT)"
   ]
  },
  {
   "cell_type": "code",
   "execution_count": null,
   "id": "5e738ea9",
   "metadata": {},
   "outputs": [],
   "source": [
    "# extract daily stream discharge\n",
    "swatmf_pst_utils.extract_day_stf(subs, sim_start, cal_start, cal_end)"
   ]
  },
  {
   "cell_type": "markdown",
   "id": "62748b00",
   "metadata": {},
   "source": [
    "## 4.2 match it with stf_obd file (SWAT)"
   ]
  },
  {
   "cell_type": "code",
   "execution_count": null,
   "id": "2439ccf0",
   "metadata": {},
   "outputs": [],
   "source": [
    "swatmf_pst_utils.stf_obd_to_ins('str_058.txt', 'rch058',cal_start, cal_end)"
   ]
  },
  {
   "cell_type": "markdown",
   "id": "2dcd0109",
   "metadata": {},
   "source": [
    "## 4.3 Depth to watertable (MODFLOW) "
   ]
  },
  {
   "cell_type": "code",
   "execution_count": null,
   "id": "17eb7144",
   "metadata": {},
   "outputs": [],
   "source": [
    "swatmf_pst_utils.extract_depth_to_water(grids, sim_start, cal_end)"
   ]
  },
  {
   "cell_type": "markdown",
   "id": "d8b70176",
   "metadata": {},
   "source": [
    "## 4.4 match it with dtw_obd file (MODFLOW)"
   ]
  },
  {
   "cell_type": "code",
   "execution_count": null,
   "id": "60cab2c9",
   "metadata": {},
   "outputs": [],
   "source": [
    "swatmf_pst_utils.mf_obd_to_ins('dtw_501.txt', 'g_5699', cal_start, cal_end)"
   ]
  },
  {
   "cell_type": "markdown",
   "id": "ff674ea0",
   "metadata": {},
   "source": [
    "# 5. Create PEST control file"
   ]
  },
  {
   "cell_type": "code",
   "execution_count": null,
   "id": "61efa9f4",
   "metadata": {},
   "outputs": [],
   "source": [
    "io_files = pyemu.helpers.parse_dir_for_io_files('.')\n",
    "pst = pyemu.Pst.from_io_files(*io_files)\n",
    "pyemu.helpers.pst_from_io_files(io_files[0], io_files[1], io_files[2], io_files[3], 'mb_dummy.pst')"
   ]
  },
  {
   "cell_type": "code",
   "execution_count": null,
   "id": "db69059b",
   "metadata": {},
   "outputs": [],
   "source": [
    "par = pst.parameter_data\n",
    "par"
   ]
  },
  {
   "cell_type": "markdown",
   "id": "ed279c0d",
   "metadata": {},
   "source": [
    "## 5.1 Assign parameter group name"
   ]
  },
  {
   "cell_type": "code",
   "execution_count": null,
   "id": "352c1249",
   "metadata": {},
   "outputs": [],
   "source": [
    "for i in range(len(par)):\n",
    "    if (par.iloc[i, 0][:2]) == 'sy':\n",
    "        par.iloc[i, 6] = 'sy'\n",
    "    elif par.iloc[i, 0][:7] == 'rivbot_':\n",
    "        par.iloc[i, 6] = 'rivbot'\n",
    "    elif par.iloc[i, 0][:6] == 'rivcd_':\n",
    "        par.iloc[i, 6] = 'rivcd'\n",
    "    elif par.iloc[i, 0][:2] == 'hk':\n",
    "        par.iloc[i, 6] = 'hk'\n",
    "    else:\n",
    "        par.iloc[i, 6] = 'swat'\n",
    "print(par)"
   ]
  },
  {
   "cell_type": "markdown",
   "id": "19afbee2",
   "metadata": {},
   "source": [
    "## 5.2 Adjust initial parameter values and their ranges"
   ]
  },
  {
   "cell_type": "code",
   "execution_count": null,
   "id": "61297566",
   "metadata": {},
   "outputs": [],
   "source": [
    "count = 0\n",
    "for i in range(len(par)):\n",
    "    if (par.iloc[i, 6] == 'hk'):\n",
    "        par.iloc[i, 3] = 1  \n",
    "        par.iloc[i, 4] = 1.000000e-02\n",
    "        par.iloc[i, 5] = 1.000000e+02\n",
    "    elif (par.iloc[i, 6] == 'sy'):\n",
    "        par.iloc[i, 3] = 1.000000e-02       \n",
    "        par.iloc[i, 4] = 1.000000e-04\n",
    "        par.iloc[i, 5] = 0.6  \n",
    "    elif (par.iloc[i, 6] == 'rivbot'):\n",
    "        par.iloc[i, 3] = 3.001     \n",
    "        par.iloc[i, 4] = 0.001\n",
    "        par.iloc[i, 5] = 6\n",
    "        par.iloc[i, 8] = -3\n",
    "    elif (par.iloc[i, 6] == 'rivcd'):\n",
    "        par.iloc[i, 3] = 50.001       \n",
    "        par.iloc[i, 4] = 0.001\n",
    "        par.iloc[i, 5] = 100\n",
    "        par.iloc[i, 8] = -50\n",
    "    else:\n",
    "        count += 1\n",
    "count"
   ]
  },
  {
   "cell_type": "code",
   "execution_count": null,
   "id": "0a328615",
   "metadata": {},
   "outputs": [],
   "source": [
    "# CN2\n",
    "par.loc['cn2', 'parval1'] = 1.001\n",
    "par.loc['cn2', 'parlbnd'] = 0.8\n",
    "par.loc['cn2', 'parubnd'] = 1.2\n",
    "par.loc['cn2', 'offset'] = -1\n",
    "\n",
    "# ESCO\n",
    "par.loc['esco', 'parval1'] = 1.001\n",
    "par.loc['esco', 'parlbnd'] = 0.5\n",
    "par.loc['esco', 'parubnd'] = 1.5\n",
    "par.loc['esco', 'offset'] = -1\n",
    "\n",
    "# sol_awc()\n",
    "par.loc['sol_awc()', 'parval1'] = 1.001\n",
    "par.loc['sol_awc()', 'parlbnd'] = 0.5\n",
    "par.loc['sol_awc()', 'parubnd'] = 1.5\n",
    "par.loc['sol_awc()', 'offset'] = -1\n"
   ]
  },
  {
   "cell_type": "markdown",
   "id": "6d487bbc",
   "metadata": {},
   "source": [
    "## 5.3 Assign parameter group name"
   ]
  },
  {
   "cell_type": "code",
   "execution_count": null,
   "id": "22b93418",
   "metadata": {},
   "outputs": [],
   "source": [
    "# set observation group\n",
    "obd = pst.observation_data\n",
    "obd"
   ]
  },
  {
   "cell_type": "code",
   "execution_count": null,
   "id": "78f4acaf",
   "metadata": {},
   "outputs": [],
   "source": [
    "# Change obd group name\n",
    "for i in range(len(obd)):\n",
    "    obd.iloc[i, 3] = obd.iloc[i, 0][:-9]\n",
    "obd"
   ]
  },
  {
   "cell_type": "markdown",
   "id": "9c68a859",
   "metadata": {},
   "source": [
    "## 5.4 Provide actual observed values to control file"
   ]
  },
  {
   "cell_type": "code",
   "execution_count": null,
   "id": "ac9f8086",
   "metadata": {},
   "outputs": [],
   "source": [
    "# Streamflow\n",
    "stf_obd = pd.read_csv('stf_day.obd',\n",
    "                       sep='\\t',\n",
    "                       index_col = 0,\n",
    "                       parse_dates = True,\n",
    "                       na_values=[-999, '']\n",
    "                     )\n",
    "stf_obd = stf_obd[cal_start: cal_end]\n",
    "stf_obd"
   ]
  },
  {
   "cell_type": "code",
   "execution_count": null,
   "id": "4f06f8fd",
   "metadata": {},
   "outputs": [],
   "source": [
    "# watertable\n",
    "dtw_obd = pd.read_csv('dtw_day.obd',\n",
    "                       sep='\\t',\n",
    "                       index_col = 0,\n",
    "                       parse_dates = True,\n",
    "                       na_values=[-999, '']\n",
    "                     )\n",
    "dtw_obd = dtw_obd[cal_start: cal_end]\n",
    "dtw_obd"
   ]
  },
  {
   "cell_type": "code",
   "execution_count": null,
   "id": "519bf837",
   "metadata": {},
   "outputs": [],
   "source": [
    "# Get sub list based on obd order\n",
    "obd_order = []\n",
    "for i in obd.obgnme.tolist():\n",
    "    if i not in obd_order:\n",
    "        obd_order.append(i)\n",
    "obd_order"
   ]
  },
  {
   "cell_type": "code",
   "execution_count": null,
   "id": "883af98d",
   "metadata": {},
   "outputs": [],
   "source": [
    "# get total list from each sub obd, delete na vals\n",
    "tot_obd = []\n",
    "for i in obd_order[:1]:\n",
    "    tot_obd += dtw_obd[i].dropna().tolist()\n",
    "    print(i)\n",
    "for i in obd_order[1:]:\n",
    "    tot_obd += stf_obd[i].dropna().tolist()\n",
    "    print(i)\n",
    "len(tot_obd)"
   ]
  },
  {
   "cell_type": "code",
   "execution_count": null,
   "id": "41d4fde8",
   "metadata": {},
   "outputs": [],
   "source": [
    "obd.loc[:, 'obsval'] = tot_obd\n",
    "obd"
   ]
  },
  {
   "cell_type": "markdown",
   "id": "617e031f",
   "metadata": {},
   "source": [
    "# 6. Create new control file with settings"
   ]
  },
  {
   "cell_type": "code",
   "execution_count": null,
   "id": "e91330b7",
   "metadata": {},
   "outputs": [],
   "source": [
    "pst.control_data.noptmax=0\n",
    "pst.model_command = 'python forward_run.py'"
   ]
  },
  {
   "cell_type": "code",
   "execution_count": null,
   "id": "fcc3a4cd",
   "metadata": {
    "scrolled": true
   },
   "outputs": [],
   "source": [
    "pst.write('mb_pest.pst')"
   ]
  },
  {
   "cell_type": "code",
   "execution_count": null,
   "id": "44db71da",
   "metadata": {},
   "outputs": [],
   "source": []
  }
 ],
 "metadata": {
  "kernelspec": {
   "display_name": "Python 3",
   "language": "python",
   "name": "python3"
  },
  "language_info": {
   "codemirror_mode": {
    "name": "ipython",
    "version": 3
   },
   "file_extension": ".py",
   "mimetype": "text/x-python",
   "name": "python",
   "nbconvert_exporter": "python",
   "pygments_lexer": "ipython3",
   "version": "3.9.10"
  }
 },
 "nbformat": 4,
 "nbformat_minor": 5
}
